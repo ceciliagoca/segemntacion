{
 "cells": [
  {
   "cell_type": "code",
   "execution_count": 1,
   "metadata": {
    "collapsed": true
   },
   "outputs": [],
   "source": [
    "import numpy as np\n",
    "import cv2 as cv\n",
    "import utilsImg as u\n",
    "import sklearn.cluster as sc\n",
    "import scipy.cluster.hierarchy as slp\n",
    "import segmentacion as s\n",
    "from matplotlib import pyplot as plt"
   ]
  },
  {
   "cell_type": "code",
   "execution_count": 2,
   "metadata": {
    "collapsed": false
   },
   "outputs": [],
   "source": [
    "img_nir = cv.imread('datos/lechuga_ndvi/2.JPG',1)"
   ]
  },
  {
   "cell_type": "code",
   "execution_count": 3,
   "metadata": {
    "collapsed": true
   },
   "outputs": [],
   "source": [
    "b_showing = 1;\n",
    "sh_scale =.25;\n",
    "img_nir = u.imgResize(img_nir,sh_scale)\n",
    "d_nir = img_nir[:,:,2]"
   ]
  },
  {
   "cell_type": "code",
   "execution_count": null,
   "metadata": {
    "collapsed": false
   },
   "outputs": [],
   "source": [
    "aux_rgb = cv.cvtColor(img_nir, cv.COLOR_BGR2RGB)\n",
    "plt.imshow(aux_rgb)\n",
    "plt.show()"
   ]
  },
  {
   "cell_type": "code",
   "execution_count": null,
   "metadata": {
    "collapsed": true
   },
   "outputs": [],
   "source": [
    "plt.close()"
   ]
  },
  {
   "cell_type": "code",
   "execution_count": null,
   "metadata": {
    "collapsed": true
   },
   "outputs": [],
   "source": [
    "def segmentacion_05(img,res): # img = imagen en escala de grises\n",
    "\n",
    "    # lectura de imagen\n",
    "    if img.dtype != np.uint8 :\n",
    "        img = img * 255\n",
    "        original = np.uint8(img)\n",
    "    else:\n",
    "        original = img\n",
    "\n",
    "\n",
    "    #\n",
    "\n",
    "    k_otsu = 11 if res==1 else  5;\n",
    "    k_omorf = 6  if res==1 else 3;\n",
    "\n",
    "\n",
    "    # Segmentar tierra y vegetación\n",
    "    veg_mask = s.segOtsu(original, k_otsu)\n",
    "    cv.imshow('veg_mask', veg_mask)\n",
    "    kernel = cv.getStructuringElement(cv.MORPH_ELLIPSE, (k_omorf, k_omorf))\n",
    "    veg_mask = cv.morphologyEx(veg_mask, cv.MORPH_CLOSE, kernel, iterations=1)\n",
    "    cv.imshow('veg_mask2', veg_mask)\n",
    "    # create a CLAHE object (Arguments are optional).\n",
    "    #clahe = cv.createCLAHE(clipLimit=2.0, tileGridSize=(8, 8))\n",
    "    #img_e = clahe.apply(original)\n",
    "    img_e = cv.equalizeHist(original)\n",
    "    img_veg = cv.bitwise_and(img_e, img_e, mask=veg_mask)\n",
    "    cv.imshow('img_veg', img_veg)\n",
    "    cv.waitKey()\n",
    "\n",
    "    ##crear semilas\n",
    "    dist = cv.distanceTransform(veg_mask , cv.DIST_L2, 3)  # distanceTransform(bw, dist, CV_DIST_L2, 3);\n",
    "    cv.normalize(dist, dist, 0, 1., cv.NORM_MINMAX);\n",
    "    dist = dist * 255\n",
    "    dist = np.uint8(dist)\n",
    "    cv.imshow('seem0', dist)\n",
    "    kernel = cv.getStructuringElement(cv.MORPH_ELLIPSE, (k_omorf*2, k_omorf*2))\n",
    "    seem = cv.morphologyEx(dist, cv.MORPH_ERODE, kernel, iterations=4)\n",
    "    seem = cv.morphologyEx(seem, cv.MORPH_CLOSE, kernel, iterations=4)\n",
    "    cv.imshow('seem1', seem)\n",
    "    cv.waitKey(0)\n",
    "\n",
    "    # apilcar watershe\n",
    "    s.watershed2(seem, img_veg)\n",
    "    \n",
    "   \n",
    "    return 0;"
   ]
  },
  {
   "cell_type": "code",
   "execution_count": 1,
   "metadata": {
    "collapsed": false
   },
   "outputs": [],
   "source": [
    "segmentacion_05(img_nir[:,:,2], res=0)"
   ]
  },
  {
   "cell_type": "code",
   "execution_count": null,
   "metadata": {
    "collapsed": true
   },
   "outputs": [],
   "source": [
    "cv.destroyAllWindows()"
   ]
  },
  {
   "cell_type": "code",
   "execution_count": null,
   "metadata": {
    "collapsed": true
   },
   "outputs": [],
   "source": [
    ""
   ]
  },
  {
   "cell_type": "code",
   "execution_count": null,
   "outputs": [],
   "source": [
    ""
   ]
  }
 ],
 "metadata": {
  "kernelspec": {
   "display_name": "Python 3",
   "language": "python",
   "name": "python3"
  },
  "language_info": {
   "codemirror_mode": {
    "name": "ipython",
    "version": 3.0
   },
   "file_extension": ".py",
   "mimetype": "text/x-python",
   "name": "python",
   "nbconvert_exporter": "python",
   "pygments_lexer": "ipython3",
   "version": "3.5.1"
  }
 },
 "nbformat": 4,
 "nbformat_minor": 0
}